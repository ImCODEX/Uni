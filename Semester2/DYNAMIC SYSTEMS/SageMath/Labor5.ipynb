{
 "cells": [
  {
   "cell_type": "code",
   "execution_count": 1,
   "metadata": {},
   "outputs": [],
   "source": [
    "x=var('x')\n",
    "y=function('y')(x)\n",
    "deq=x*diff(y,x,2)-(x+1)*diff(y,x)-2*(x-1)*y==0"
   ]
  },
  {
   "cell_type": "code",
   "execution_count": 6,
   "metadata": {},
   "outputs": [
    {
     "data": {
      "text/plain": [
       "0"
      ]
     },
     "execution_count": 6,
     "metadata": {},
     "output_type": "execute_result"
    }
   ],
   "source": [
    "u11a=function('u')(x)\n",
    "u21a=function('u')(x)\n",
    "u11a(x)=exp(2*x)\n",
    "u21a=x^2+1\n",
    "ans11a=x*diff(u11a,x,2)-(x+1)*diff(u11a,x)-2*(x-1)*u11a\n",
    "expand(ans11a(x))"
   ]
  },
  {
   "cell_type": "code",
   "execution_count": 7,
   "metadata": {},
   "outputs": [
    {
     "data": {
      "text/plain": [
       "-2*x^3 - 2*x + 2"
      ]
     },
     "execution_count": 7,
     "metadata": {},
     "output_type": "execute_result"
    }
   ],
   "source": [
    "ans21a=x*diff(u21a,x,2)-(x+1)*diff(u21a,x)-2*(x-1)*u21a\n",
    "expand(ans21a(x)) #die erste ist, aber die zweite nicht"
   ]
  },
  {
   "cell_type": "code",
   "execution_count": 32,
   "metadata": {},
   "outputs": [
    {
     "data": {
      "text/plain": [
       "0"
      ]
     },
     "execution_count": 32,
     "metadata": {},
     "output_type": "execute_result"
    }
   ],
   "source": [
    "deq1b=diff(y,x,2)-tan(x)*diff(y,x,2)+2*y==0\n",
    "u11b=function('u11b')(x)\n",
    "u21b=function('u21b')(x)\n",
    "u11b(x)=cos(x)\n",
    "u21b=sin(x)\n",
    "ans11b=diff(u11b,x,2)-tan(x)*diff(u11b,x)+2*u11b\n",
    "expand(ans11a(x))"
   ]
  },
  {
   "cell_type": "code",
   "execution_count": 11,
   "metadata": {},
   "outputs": [
    {
     "data": {
      "text/plain": [
       "-cos(x)*tan(x) + sin(x)"
      ]
     },
     "execution_count": 11,
     "metadata": {},
     "output_type": "execute_result"
    }
   ],
   "source": [
    "ans21b=diff(u21b,x,2)-tan(x)*diff(u21b,x)+2*u21b\n",
    "expand(ans21b(x)) #die erste ist, aber die zweite nicht"
   ]
  },
  {
   "cell_type": "code",
   "execution_count": 33,
   "metadata": {},
   "outputs": [
    {
     "data": {
      "text/plain": [
       "0"
      ]
     },
     "execution_count": 33,
     "metadata": {},
     "output_type": "execute_result"
    }
   ],
   "source": [
    "deq1c=x^3*diff(y,x,3)-3*x^2*diff(y,x,2)+6*x*diff(y,x)-6*y==0\n",
    "u11c=function('u11c')(x)\n",
    "u21c=function('u21c')(x)\n",
    "u11c(x)=x\n",
    "u21c=x^2\n",
    "ans11c=x^3*diff(u11c,x,3)-3*x^2*diff(u11c,x,2)+6*x*diff(u11c,x)-6*u11c\n",
    "expand(ans11c(x))"
   ]
  },
  {
   "cell_type": "code",
   "execution_count": 26,
   "metadata": {},
   "outputs": [],
   "source": [
    "#ans21c=x^3*diff(u21c,x,3)-3*x^2*diff(u21c,x,2)+6*x*diff(u21c,x)-6*u21c\n",
    "#expand(ans21c(x))\n",
    "def L21c(y):\n",
    "    a21c(x)=expand(x^3*diff(y,x,3)-3*x^2*diff(y,x,2)+6*x*diff(y,x)-6*y)\n",
    "    return a21c(x)"
   ]
  },
  {
   "cell_type": "code",
   "execution_count": 28,
   "metadata": {},
   "outputs": [
    {
     "data": {
      "text/plain": [
       "0"
      ]
     },
     "execution_count": 28,
     "metadata": {},
     "output_type": "execute_result"
    }
   ],
   "source": [
    "L21c(u21c)#beide sind losungen"
   ]
  },
  {
   "cell_type": "code",
   "execution_count": 29,
   "metadata": {},
   "outputs": [],
   "source": [
    "def L1d(y):\n",
    "    a1d(x)=expand(x*diff(y,x,3)-(2*x+1)*diff(y,x)+(x+1)*y-2*x^2*exp(x))\n",
    "    return a1d(x)"
   ]
  },
  {
   "cell_type": "code",
   "execution_count": 30,
   "metadata": {},
   "outputs": [
    {
     "data": {
      "text/plain": [
       "2*x^2*e^x + 8*x*e^x"
      ]
     },
     "execution_count": 30,
     "metadata": {},
     "output_type": "execute_result"
    }
   ],
   "source": [
    "u11d=(2/x)*x^3*exp(x)\n",
    "u21d=x^2*exp(x)\n",
    "L1d(u11d)"
   ]
  },
  {
   "cell_type": "code",
   "execution_count": 31,
   "metadata": {},
   "outputs": [
    {
     "data": {
      "text/plain": [
       "4*x*e^x"
      ]
     },
     "execution_count": 31,
     "metadata": {},
     "output_type": "execute_result"
    }
   ],
   "source": [
    "L1d(u21d) #beide sind nich losungen"
   ]
  },
  {
   "cell_type": "code",
   "execution_count": 42,
   "metadata": {},
   "outputs": [],
   "source": [
    "deq21a=x*diff(y,x,2)-(2*x+1)*diff(y,x)+2*y==0\n",
    "a,b,c=var('a,b,c')\n",
    "u21a=function('u21a')(x)\n",
    "u21a(x)=exp(a*x)"
   ]
  },
  {
   "cell_type": "code",
   "execution_count": 43,
   "metadata": {},
   "outputs": [],
   "source": [
    "def L21a(y):\n",
    "    a21a=expand(x*diff(y,x,2)-(2*x+1)*diff(y,x)+2*y)\n",
    "    return a(x)"
   ]
  },
  {
   "cell_type": "code",
   "execution_count": 41,
   "metadata": {},
   "outputs": [
    {
     "name": "stderr",
     "output_type": "stream",
     "text": [
      "/opt/sagemath-9.2/local/lib/python3.7/site-packages/sage/repl/ipython_kernel/__main__.py:1: DeprecationWarning: Substitution using function-call syntax and unnamed arguments is deprecated and will be removed from a future release of Sage; you can use named arguments instead, like EXPR(x=..., y=...)\n",
      "See http://trac.sagemath.org/5930 for details.\n",
      "  from ipykernel.kernelapp import IPKernelApp\n"
     ]
    },
    {
     "data": {
      "text/plain": [
       "x"
      ]
     },
     "execution_count": 41,
     "metadata": {},
     "output_type": "execute_result"
    }
   ],
   "source": [
    "L21a(u21a)"
   ]
  },
  {
   "cell_type": "code",
   "execution_count": 45,
   "metadata": {},
   "outputs": [],
   "source": [
    "u21b=function('u21b')(x)\n",
    "u21b=a*x+b"
   ]
  },
  {
   "cell_type": "code",
   "execution_count": 46,
   "metadata": {},
   "outputs": [],
   "source": [
    "def L21b(y):\n",
    "    a21b=expand(x*diff(y,x,2)+2*diff(y,x)-x*y)\n",
    "    return a21b(x)"
   ]
  },
  {
   "cell_type": "code",
   "execution_count": 47,
   "metadata": {},
   "outputs": [
    {
     "name": "stderr",
     "output_type": "stream",
     "text": [
      "/opt/sagemath-9.2/local/lib/python3.7/site-packages/sage/repl/ipython_kernel/__main__.py:1: DeprecationWarning: Substitution using function-call syntax and unnamed arguments is deprecated and will be removed from a future release of Sage; you can use named arguments instead, like EXPR(x=..., y=...)\n",
      "See http://trac.sagemath.org/5930 for details.\n",
      "  from ipykernel.kernelapp import IPKernelApp\n"
     ]
    },
    {
     "data": {
      "text/plain": [
       "-x^3 - b*x + 2*x"
      ]
     },
     "execution_count": 47,
     "metadata": {},
     "output_type": "execute_result"
    }
   ],
   "source": [
    "L21b(u21b)"
   ]
  },
  {
   "cell_type": "code",
   "execution_count": null,
   "metadata": {},
   "outputs": [],
   "source": []
  }
 ],
 "metadata": {
  "kernelspec": {
   "display_name": "SageMath 9.2",
   "language": "sage",
   "name": "sagemath"
  },
  "language_info": {
   "codemirror_mode": {
    "name": "ipython",
    "version": 3
   },
   "file_extension": ".py",
   "mimetype": "text/x-python",
   "name": "python",
   "nbconvert_exporter": "python",
   "pygments_lexer": "ipython3",
   "version": "3.7.7"
  }
 },
 "nbformat": 4,
 "nbformat_minor": 4
}
